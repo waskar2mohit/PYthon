{
  "cells": [
    {
      "cell_type": "code",
      "execution_count": 1,
      "id": "5d429ecd-2f89-4271-b891-df69085855f4",
      "metadata": {
        "trusted": true
      },
      "outputs": [
        {
          "name": "stdout",
          "output_type": "stream",
          "text": [
            "I am\n"
          ]
        }
      ],
      "source": [
        "str=\"I am the gammer\"\n",
        "str=str[0:4]\n",
        "print(str)\n",
        "\n"
      ]
    },
    {
      "cell_type": "code",
      "execution_count": 2,
      "id": "5a41c7d6-5e4b-4d1e-a8d0-3f4662f17154",
      "metadata": {
        "trusted": true
      },
      "outputs": [
        {
          "name": "stdout",
          "output_type": "stream",
          "text": [
            "[8, 1, 2, 3, 4, 5]\n"
          ]
        }
      ],
      "source": [
        "list=[1,2,3,4,5]\n",
        "list.insert(0,8)\n",
        "print(list)\n"
      ]
    },
    {
      "cell_type": "code",
      "execution_count": 3,
      "id": "f98ae751-df32-4860-94d2-b95d832447e4",
      "metadata": {
        "trusted": true
      },
      "outputs": [
        {
          "name": "stdout",
          "output_type": "stream",
          "text": [
            "4\n"
          ]
        }
      ],
      "source": [
        "tuple=(1,2,3,4,5,6)\n",
        "print(tuple[3])"
      ]
    },
    {
      "cell_type": "code",
      "execution_count": 4,
      "id": "f5d12c03-a870-4c28-a678-884314233bd8",
      "metadata": {
        "trusted": true
      },
      "outputs": [
        {
          "name": "stdout",
          "output_type": "stream",
          "text": [
            "{1: 'Stark', 2: 'Lanister', 3: 'Targaryen', 4: 'Baratheon', 6: 'Tyrell', 7: 'Martell'}\n",
            "{1: 'Stark', 2: 'Lanister', 3: 'Targaryen', 4: 'Baratheon', 6: 'Tyrell', 7: 'Martell', 8: 'Seasnake'}\n"
          ]
        }
      ],
      "source": [
        "westross={\n",
        "    1:\"Stark\",\n",
        "    2:\"Lanister\",\n",
        "    3:\"Targaryen\",\n",
        "    4:\"Baratheon\",\n",
        "    5:\"Greyjoy\",\n",
        "    6:\"Tyrell\",\n",
        "    7:\"Martell\",\n",
        "}\n",
        "\n",
        "del westross[5]\n",
        "print(westross)\n",
        "westross[8]=\"Seasnake\"\n",
        "print(westross)"
      ]
    }
  ],
  "metadata": {
    "kernelspec": {
      "display_name": "Python 3",
      "language": "python",
      "name": "python3"
    },
    "language_info": {
      "codemirror_mode": {
        "name": "ipython",
        "version": 3
      },
      "file_extension": ".py",
      "mimetype": "text/x-python",
      "name": "python",
      "nbconvert_exporter": "python",
      "pygments_lexer": "ipython3",
      "version": "3.11.9"
    }
  },
  "nbformat": 4,
  "nbformat_minor": 5
}
