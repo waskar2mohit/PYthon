{
  "nbformat": 4,
  "nbformat_minor": 0,
  "metadata": {
    "colab": {
      "provenance": []
    },
    "kernelspec": {
      "name": "python3",
      "display_name": "Python 3"
    },
    "language_info": {
      "name": "python"
    }
  },
  "cells": [
    {
      "cell_type": "code",
      "execution_count": 4,
      "metadata": {
        "colab": {
          "base_uri": "https://localhost:8080/"
        },
        "id": "0MEv1wkXHGcL",
        "outputId": "972740b6-6035-4e71-e0fe-c679c62f2a92"
      },
      "outputs": [
        {
          "output_type": "stream",
          "name": "stdout",
          "text": [
            "Enter the equation : (1+(2*3)+((8)/4))+1\n",
            "3\n"
          ]
        }
      ],
      "source": [
        "class StackDepth:\n",
        "    def maximumDepth (self, stringInput : str) -> int :\n",
        "        stack = []\n",
        "        count = 0\n",
        "        count_list =[]\n",
        "        for char in stringInput:\n",
        "            if (char == '(') or (char == ')') :\n",
        "                stack.append(char)\n",
        "        for x in stack :\n",
        "            if x=='(':\n",
        "                count+=1\n",
        "            count_list.append(count)\n",
        "            if x == ')':\n",
        "                count-=1\n",
        "        return max(count_list)\n",
        "\n",
        "eqInput = input(\"Enter the equation : \")\n",
        "print(StackDepth().maximumDepth(eqInput))"
      ]
    },
    {
      "cell_type": "code",
      "source": [
        "class StackDepth:\n",
        "    def maximumDepth (self, stringInput : str) -> int :\n",
        "        stack = []\n",
        "        count = 0\n",
        "        count_list =[]\n",
        "        for char in stringInput:\n",
        "            if (char == '(') or (char == ')') :\n",
        "                stack.append(char)\n",
        "        for x in stack :\n",
        "            if x=='(':\n",
        "                count+=1\n",
        "            count_list.append(count)\n",
        "            if x == ')':\n",
        "                count-=1\n",
        "        return max(count_list)\n",
        "\n",
        "eqInput = input(\"Enter the equation : \")\n",
        "print(StackDepth().maximumDepth(eqInput))"
      ],
      "metadata": {
        "colab": {
          "base_uri": "https://localhost:8080/"
        },
        "id": "wntxx4otHjBA",
        "outputId": "f56eb390-238a-49bb-b8b5-2696397458b8"
      },
      "execution_count": 2,
      "outputs": [
        {
          "output_type": "stream",
          "name": "stdout",
          "text": [
            "Enter the equation : (1)+((2))+(((3)))\n",
            "3\n"
          ]
        }
      ]
    },
    {
      "cell_type": "code",
      "source": [
        "class StackDepth:\n",
        "    def maximumDepth (self, stringInput : str) -> int :\n",
        "        stack = []\n",
        "        count = 0\n",
        "        count_list =[]\n",
        "        for char in stringInput:\n",
        "            if (char == '(') or (char == ')') :\n",
        "                stack.append(char)\n",
        "        for x in stack :\n",
        "            if x=='(':\n",
        "                count+=1\n",
        "            count_list.append(count)\n",
        "            if x == ')':\n",
        "                count-=1\n",
        "        return max(count_list)\n",
        "\n",
        "eqInput = input(\"Enter the equation : \")\n",
        "print(StackDepth().maximumDepth(eqInput))"
      ],
      "metadata": {
        "colab": {
          "base_uri": "https://localhost:8080/"
        },
        "id": "RlUaGx-aKEIO",
        "outputId": "2c5c78cd-f4f7-42a6-fb31-3f797dbe60ce"
      },
      "execution_count": 5,
      "outputs": [
        {
          "output_type": "stream",
          "name": "stdout",
          "text": [
            "Enter the equation : ()(())((()()))\n",
            "3\n"
          ]
        }
      ]
    }
  ]
}
