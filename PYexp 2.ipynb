{
  "nbformat": 4,
  "nbformat_minor": 0,
  "metadata": {
    "colab": {
      "provenance": []
    },
    "kernelspec": {
      "name": "python3",
      "display_name": "Python 3"
    },
    "language_info": {
      "name": "python"
    }
  },
  "cells": [
    {
      "cell_type": "code",
      "execution_count": 1,
      "metadata": {
        "colab": {
          "base_uri": "https://localhost:8080/"
        },
        "id": "L4d4bJFZLKRc",
        "outputId": "67a0ac5b-d9ac-456f-e0f4-e96e3d179917"
      },
      "outputs": [
        {
          "output_type": "stream",
          "name": "stdout",
          "text": [
            "Enter the string :aaabbb\n",
            "True\n"
          ]
        }
      ],
      "source": [
        "def abseqchecker(string) -> bool :\n",
        "    lista = []\n",
        "    listb = []\n",
        "\n",
        "    for i in range(0,len(string)):\n",
        "        if(string[i]=='a'):\n",
        "            lista.append(i)\n",
        "        if(string[i]=='b'):\n",
        "            listb.append(i)\n",
        "    if(len(lista)==0 or len(listb)==0 ):\n",
        "        return True\n",
        "    elif(max(lista) < min(listb)):\n",
        "        return True\n",
        "    else:\n",
        "        return False\n",
        "\n",
        "\n",
        "\n",
        "string_ab = input(\"Enter the string :\")\n",
        "print(abseqchecker(string_ab))"
      ]
    },
    {
      "cell_type": "code",
      "source": [
        "def abseqchecker(string) -> bool :\n",
        "    lista = []\n",
        "    listb = []\n",
        "\n",
        "    for i in range(0,len(string)):\n",
        "        if(string[i]=='a'):\n",
        "            lista.append(i)\n",
        "        if(string[i]=='b'):\n",
        "            listb.append(i)\n",
        "    if(len(lista)==0 or len(listb)==0 ):\n",
        "        return True\n",
        "    elif(max(lista) < min(listb)):\n",
        "        return True\n",
        "    else:\n",
        "        return False\n",
        "\n",
        "\n",
        "\n",
        "string_ab = input(\"Enter the string :\")\n",
        "print(abseqchecker(string_ab))"
      ],
      "metadata": {
        "colab": {
          "base_uri": "https://localhost:8080/"
        },
        "id": "x4w9LbA_TVGQ",
        "outputId": "4db2c418-5eef-4e35-b82e-1245461338d3"
      },
      "execution_count": 2,
      "outputs": [
        {
          "output_type": "stream",
          "name": "stdout",
          "text": [
            "Enter the string :ababa\n",
            "False\n"
          ]
        }
      ]
    },
    {
      "cell_type": "code",
      "source": [
        "def abseqchecker(string) -> bool :\n",
        "    lista = []\n",
        "    listb = []\n",
        "\n",
        "    for i in range(0,len(string)):\n",
        "        if(string[i]=='a'):\n",
        "            lista.append(i)\n",
        "        if(string[i]=='b'):\n",
        "            listb.append(i)\n",
        "    if(len(lista)==0 or len(listb)==0 ):\n",
        "        return True\n",
        "    elif(max(lista) < min(listb)):\n",
        "        return True\n",
        "    else:\n",
        "        return False\n",
        "\n",
        "\n",
        "\n",
        "string_ab = input(\"Enter the string :\")\n",
        "print(abseqchecker(string_ab))"
      ],
      "metadata": {
        "colab": {
          "base_uri": "https://localhost:8080/"
        },
        "id": "QiO_73HlTX5Y",
        "outputId": "3995cc35-3c26-4de4-d8aa-6c9d4a84c37c"
      },
      "execution_count": 3,
      "outputs": [
        {
          "output_type": "stream",
          "name": "stdout",
          "text": [
            "Enter the string :aaa\n",
            "True\n"
          ]
        }
      ]
    },
    {
      "cell_type": "code",
      "source": [
        "def abseqchecker(string) -> bool :\n",
        "    lista = []\n",
        "    listb = []\n",
        "\n",
        "    for i in range(0,len(string)):\n",
        "        if(string[i]=='a'):\n",
        "            lista.append(i)\n",
        "        if(string[i]=='b'):\n",
        "            listb.append(i)\n",
        "    if(len(lista)==0 or len(listb)==0 ):\n",
        "        return True\n",
        "    elif(max(lista) < min(listb)):\n",
        "        return True\n",
        "    else:\n",
        "        return False\n",
        "\n",
        "\n",
        "\n",
        "string_ab = input(\"Enter the string :\")\n",
        "print(abseqchecker(string_ab))"
      ],
      "metadata": {
        "id": "xQsY8qJtTa1o",
        "outputId": "903ffd50-2d4b-4c83-ff48-73e82131bac6",
        "colab": {
          "base_uri": "https://localhost:8080/"
        }
      },
      "execution_count": 4,
      "outputs": [
        {
          "output_type": "stream",
          "name": "stdout",
          "text": [
            "Enter the string :bbb\n",
            "True\n"
          ]
        }
      ]
    }
  ]
}