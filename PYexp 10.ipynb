{
 "cells": [
  {
   "cell_type": "code",
   "execution_count": 2,
   "metadata": {},
   "outputs": [
    {
     "name": "stdout",
     "output_type": "stream",
     "text": [
      "Pi: 3.141592653589793\n",
      "Euler's Number: 2.718281828459045\n"
     ]
    }
   ],
   "source": [
    "import numpy as np\n",
    "\n",
    "# Exploring basic NumPy methods (without array methods)\n",
    "\n",
    "# Mathematical Constants\n",
    "print(\"Pi:\", np.pi)\n",
    "print(\"Euler's Number:\", np.e)\n"
   ]
  },
  {
   "cell_type": "code",
   "execution_count": 3,
   "metadata": {},
   "outputs": [
    {
     "name": "stdout",
     "output_type": "stream",
     "text": [
      "Sin(45 degrees): 0.7071067811865476\n",
      "Cos(45 degrees): 0.7071067811865476\n",
      "Tan(45 degrees): 0.9999999999999999\n"
     ]
    }
   ],
   "source": [
    "# Trigonometric Functions\n",
    "angle_rad = np.deg2rad(45)  # Convert 45 degrees to radians\n",
    "print(\"Sin(45 degrees):\", np.sin(angle_rad))\n",
    "print(\"Cos(45 degrees):\", np.cos(angle_rad))\n",
    "print(\"Tan(45 degrees):\", np.tan(angle_rad))"
   ]
  },
  {
   "cell_type": "code",
   "execution_count": 4,
   "metadata": {},
   "outputs": [
    {
     "name": "stdout",
     "output_type": "stream",
     "text": [
      "Exponential of 2: 7.38905609893065\n",
      "Natural Log of 10: 2.302585092994046\n",
      "Log base 10 of 100: 2.0\n",
      "Log base 2 of 8: 3.0\n"
     ]
    }
   ],
   "source": [
    "print(\"Exponential of 2:\", np.exp(2))\n",
    "print(\"Natural Log of 10:\", np.log(10))\n",
    "print(\"Log base 10 of 100:\", np.log10(100))\n",
    "print(\"Log base 2 of 8:\", np.log2(8))"
   ]
  },
  {
   "cell_type": "code",
   "execution_count": 5,
   "metadata": {},
   "outputs": [
    {
     "name": "stdout",
     "output_type": "stream",
     "text": [
      "Ceil of 4.3: 5.0\n",
      "Floor of 4.7: 4.0\n",
      "Round 4.5: 4.0\n"
     ]
    }
   ],
   "source": [
    "# Rounding Functions\n",
    "print(\"Ceil of 4.3:\", np.ceil(4.3))\n",
    "print(\"Floor of 4.7:\", np.floor(4.7))\n",
    "print(\"Round 4.5:\", np.round(4.5))"
   ]
  },
  {
   "cell_type": "code",
   "execution_count": 6,
   "metadata": {},
   "outputs": [
    {
     "name": "stdout",
     "output_type": "stream",
     "text": [
      "Random Number [0,1]: 0.5431539156733143\n",
      "Random Integer [1,10]: 4\n"
     ]
    }
   ],
   "source": [
    "# Random Number Generation\n",
    "print(\"Random Number [0,1]:\", np.random.rand())\n",
    "print(\"Random Integer [1,10]:\", np.random.randint(1, 10))"
   ]
  },
  {
   "cell_type": "code",
   "execution_count": 7,
   "metadata": {},
   "outputs": [
    {
     "name": "stdout",
     "output_type": "stream",
     "text": [
      "Mean: 5.0\n",
      "Median: 5.0\n",
      "Standard Deviation: 2.581988897471611\n",
      "Variance: 6.666666666666667\n"
     ]
    }
   ],
   "source": [
    "# Statistical Functions\n",
    "data = [1, 2, 3, 4, 5, 6, 7, 8, 9]\n",
    "print(\"Mean:\", np.mean(data))\n",
    "print(\"Median:\", np.median(data))\n",
    "print(\"Standard Deviation:\", np.std(data))\n",
    "print(\"Variance:\", np.var(data))"
   ]
  },
  {
   "cell_type": "code",
   "execution_count": 8,
   "metadata": {},
   "outputs": [
    {
     "name": "stdout",
     "output_type": "stream",
     "text": [
      "GCD of 24 and 36: 12\n",
      "LCM of 6 and 8: 24\n"
     ]
    }
   ],
   "source": [
    "# Greatest Common Divisor (GCD) and Least Common Multiple (LCM)\n",
    "print(\"GCD of 24 and 36:\", np.gcd(24, 36))\n",
    "print(\"LCM of 6 and 8:\", np.lcm(6, 8))\n"
   ]
  },
  {
   "cell_type": "code",
   "execution_count": 9,
   "metadata": {},
   "outputs": [
    {
     "name": "stdout",
     "output_type": "stream",
     "text": [
      "Factorial of 5: 120\n",
      "2 to the power of 3: 8\n"
     ]
    },
    {
     "name": "stderr",
     "output_type": "stream",
     "text": [
      "C:\\Users\\student\\AppData\\Local\\Temp\\ipykernel_1492\\1727688454.py:2: DeprecationWarning: `np.math` is a deprecated alias for the standard library `math` module (Deprecated Numpy 1.25). Replace usages of `np.math` with `math`\n",
      "  print(\"Factorial of 5:\", np.math.factorial(5))\n"
     ]
    }
   ],
   "source": [
    "# Factorial and Power\n",
    "print(\"Factorial of 5:\", np.math.factorial(5))\n",
    "print(\"2 to the power of 3:\", np.power(2, 3))"
   ]
  }
 ],
 "metadata": {
  "kernelspec": {
   "display_name": "base",
   "language": "python",
   "name": "python3"
  },
  "language_info": {
   "codemirror_mode": {
    "name": "ipython",
    "version": 3
   },
   "file_extension": ".py",
   "mimetype": "text/x-python",
   "name": "python",
   "nbconvert_exporter": "python",
   "pygments_lexer": "ipython3",
   "version": "3.12.7"
  }
 },
 "nbformat": 4,
 "nbformat_minor": 2
}
