{
  "nbformat": 4,
  "nbformat_minor": 0,
  "metadata": {
    "colab": {
      "provenance": []
    },
    "kernelspec": {
      "name": "python3",
      "display_name": "Python 3"
    },
    "language_info": {
      "name": "python"
    }
  },
  "cells": [
    {
      "cell_type": "code",
      "execution_count": 4,
      "metadata": {
        "colab": {
          "base_uri": "https://localhost:8080/"
        },
        "id": "znqS_VaG5uh-",
        "outputId": "f9eaa870-6d2a-47b3-ebe3-a7b5cfcae2c8"
      },
      "outputs": [
        {
          "output_type": "stream",
          "name": "stdout",
          "text": [
            "Enter the string aaabbb\n",
            "Result of aaabbb is True \n"
          ]
        }
      ],
      "source": [
        "def checkString(s: str) -> bool:\n",
        "    seen_b = False\n",
        "    for char in s:\n",
        "        if char == 'b':\n",
        "            seen_b = True\n",
        "        elif char == 'a' and seen_b:\n",
        "            return False\n",
        "    return True\n",
        "\n",
        "str=input(\"Enter the string \")\n",
        "result=checkString(str)\n",
        "\n",
        "print(f\"Result of {str} is {result} \")"
      ]
    },
    {
      "cell_type": "code",
      "source": [],
      "metadata": {
        "id": "4cD3cKF_FgDG"
      },
      "execution_count": null,
      "outputs": []
    },
    {
      "cell_type": "code",
      "execution_count": 5,
      "metadata": {
        "colab": {
          "base_uri": "https://localhost:8080/"
        },
        "outputId": "f383fa29-0894-4bde-8859-26b86577dd86",
        "id": "TF5uF9iaFgZY"
      },
      "outputs": [
        {
          "output_type": "stream",
          "name": "stdout",
          "text": [
            "Enter the string abab\n",
            "Result of abab is False \n"
          ]
        }
      ],
      "source": [
        "def checkString(s: str) -> bool:\n",
        "    seen_b = False\n",
        "    for char in s:\n",
        "        if char == 'b':\n",
        "            seen_b = True\n",
        "        elif char == 'a' and seen_b:\n",
        "            return False\n",
        "    return True\n",
        "\n",
        "str=input(\"Enter the string \")\n",
        "result=checkString(str)\n",
        "\n",
        "print(f\"Result of {str} is {result} \")"
      ]
    },
    {
      "cell_type": "code",
      "source": [
        "def checkString(s: str) -> bool:\n",
        "    seen_b = False\n",
        "    for char in s:\n",
        "        if char == 'b':\n",
        "            seen_b = True\n",
        "        elif char == 'a' and seen_b:\n",
        "            return False\n",
        "    return True\n",
        "\n",
        "str=input(\"Enter the string \")\n",
        "result=checkString(str)\n",
        "\n",
        "print(f\"Result of {str} is {result} \")"
      ],
      "metadata": {
        "colab": {
          "base_uri": "https://localhost:8080/"
        },
        "id": "B7AmYZg1Fll-",
        "outputId": "394f78d6-6b64-467e-92d3-3136a2feb919"
      },
      "execution_count": 6,
      "outputs": [
        {
          "output_type": "stream",
          "name": "stdout",
          "text": [
            "Enter the string bbb\n",
            "Result of bbb is True \n"
          ]
        }
      ]
    }
  ]
}