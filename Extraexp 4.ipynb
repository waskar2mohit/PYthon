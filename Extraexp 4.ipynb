{
  "nbformat": 4,
  "nbformat_minor": 0,
  "metadata": {
    "colab": {
      "provenance": []
    },
    "kernelspec": {
      "name": "python3",
      "display_name": "Python 3"
    },
    "language_info": {
      "name": "python"
    }
  },
  "cells": [
    {
      "cell_type": "code",
      "execution_count": null,
      "metadata": {
        "colab": {
          "base_uri": "https://localhost:8080/"
        },
        "id": "53dKUYhM6YsF",
        "outputId": "271b73bd-8ef1-4867-bdb6-11cfd40a0565"
      },
      "outputs": [
        {
          "output_type": "stream",
          "name": "stdout",
          "text": [
            "Enter Method is executed\n",
            "Middle part is executed\n",
            "helloWorld\n",
            "<class 'Exception'>, , <traceback object at 0x7e62180de040>\n",
            "Exit method is executed\n"
          ]
        }
      ],
      "source": [
        "class File:\n",
        "    def __init__ (self, filename, method):\n",
        "        self.file = open (filename, method)\n",
        "\n",
        "    def __enter__ (self):\n",
        "        print ('Enter Method is executed')\n",
        "        return self.file\n",
        "\n",
        "    def __exit__ (self, type, value, traceback):\n",
        "        print (f'{type}, {value}, {traceback}')\n",
        "        print ('Exit method is executed')\n",
        "        self.file.close ()\n",
        "        # return True\n",
        "        if type == Exception:\n",
        "            return True\n",
        "\n",
        "if __name__ == '__main__':\n",
        "    with File ('./hello.txt', 'r') as f:\n",
        "        print ('Middle part is executed')\n",
        "        print(f.read())\n",
        "        raise Exception ()"
      ]
    },
    {
      "cell_type": "code",
      "source": [
        "class File:\n",
        "    def __init__ (self, filename, method):\n",
        "        self.file = open (filename, method)\n",
        "\n",
        "    def __enter__ (self):\n",
        "        print ('Enter Method is executed')\n",
        "        return self.file\n",
        "\n",
        "    def __exit__ (self, type, value, traceback):\n",
        "        print (f'{type}, {value}, {traceback}')\n",
        "        print ('Exit method is executed')\n",
        "        self.file.close ()\n",
        "        # return True\n",
        "        if type == Exception:\n",
        "            return True\n",
        "\n",
        "if __name__ == '__main__':\n",
        "    with File ('./hello.txt', 'a') as f:\n",
        "        print ('Middle part is executed')\n",
        "        f.write(\"guyzz\")\n",
        "        raise Exception ()"
      ],
      "metadata": {
        "colab": {
          "base_uri": "https://localhost:8080/"
        },
        "id": "A_EUU3F08ezQ",
        "outputId": "a6e4e960-269f-40bb-dae6-e0004a55c2dd"
      },
      "execution_count": 11,
      "outputs": [
        {
          "output_type": "stream",
          "name": "stdout",
          "text": [
            "Enter Method is executed\n",
            "Middle part is executed\n",
            "<class 'Exception'>, , <traceback object at 0x7e6219cd2d00>\n",
            "Exit method is executed\n"
          ]
        }
      ]
    },
    {
      "cell_type": "markdown",
      "source": [],
      "metadata": {
        "id": "CUVKdfti9Bly"
      }
    },
    {
      "cell_type": "code",
      "source": [
        "class File:\n",
        "    def __init__ (self, filename, method):\n",
        "        self.file = open (filename, method)\n",
        "\n",
        "    def __enter__ (self):\n",
        "        print ('Enter Method is executed')\n",
        "        return self.file\n",
        "\n",
        "    def __exit__ (self, type, value, traceback):\n",
        "        print (f'{type}, {value}, {traceback}')\n",
        "        print ('Exit method is executed')\n",
        "        self.file.close ()\n",
        "        # return True\n",
        "        if type == Exception:\n",
        "            return True\n",
        "\n",
        "if __name__ == '__main__':\n",
        "    with File ('./hello.txt', 'r') as f:\n",
        "        print ('Middle part is executed')\n",
        "        print(f.read())\n",
        "        raise Exception ()"
      ],
      "metadata": {
        "colab": {
          "base_uri": "https://localhost:8080/"
        },
        "id": "skJBJJ2c9CHZ",
        "outputId": "9f335921-10e0-42dd-e8c4-d7d1c3746b35"
      },
      "execution_count": 12,
      "outputs": [
        {
          "output_type": "stream",
          "name": "stdout",
          "text": [
            "Enter Method is executed\n",
            "Middle part is executed\n",
            "helloWorldguyzz\n",
            "<class 'Exception'>, , <traceback object at 0x7e62180ecfc0>\n",
            "Exit method is executed\n"
          ]
        }
      ]
    },
    {
      "cell_type": "code",
      "source": [
        "class File:\n",
        "    def __init__ (self, filename, method):\n",
        "        self.file = open (filename, method)\n",
        "\n",
        "    def __enter__ (self):\n",
        "        print ('Enter Method is executed')\n",
        "        return self.file\n",
        "\n",
        "    def __exit__ (self, type, value, traceback):\n",
        "        print (f'{type}, {value}, {traceback}')\n",
        "        print ('Exit method is executed')\n",
        "        self.file.close ()\n",
        "        # return True\n",
        "        if type == Exception:\n",
        "            return True\n",
        "\n",
        "if __name__ == '__main__':\n",
        "    with File ('./hello.txt', 'w') as f:\n",
        "        print ('Middle part is executed')\n",
        "        f.write(\"New text\")\n",
        "        raise Exception ()"
      ],
      "metadata": {
        "colab": {
          "base_uri": "https://localhost:8080/"
        },
        "id": "90KcSf_L9ovJ",
        "outputId": "32310c4e-8e7c-43da-f0e7-59cea3fb206b"
      },
      "execution_count": 16,
      "outputs": [
        {
          "output_type": "stream",
          "name": "stdout",
          "text": [
            "Enter Method is executed\n",
            "Middle part is executed\n",
            "<class 'Exception'>, , <traceback object at 0x7e62180dd400>\n",
            "Exit method is executed\n"
          ]
        }
      ]
    },
    {
      "cell_type": "code",
      "source": [
        "class File:\n",
        "    def __init__ (self, filename, method):\n",
        "        self.file = open (filename, method)\n",
        "\n",
        "    def __enter__ (self):\n",
        "        print ('Enter Method is executed')\n",
        "        return self.file\n",
        "\n",
        "    def __exit__ (self, type, value, traceback):\n",
        "        print (f'{type}, {value}, {traceback}')\n",
        "        print ('Exit method is executed')\n",
        "        self.file.close ()\n",
        "        # return True\n",
        "        if type == Exception:\n",
        "            return True\n",
        "\n",
        "if __name__ == '__main__':\n",
        "    with File ('./hello.txt', 'r') as f:\n",
        "        print ('Middle part is executed')\n",
        "        print(f.read())\n",
        "        raise Exception ()"
      ],
      "metadata": {
        "colab": {
          "base_uri": "https://localhost:8080/"
        },
        "id": "DQmR0Fmg-w75",
        "outputId": "56d08df8-add2-4fe1-e347-ebfa58af3d04"
      },
      "execution_count": 17,
      "outputs": [
        {
          "output_type": "stream",
          "name": "stdout",
          "text": [
            "Enter Method is executed\n",
            "Middle part is executed\n",
            "New text\n",
            "<class 'Exception'>, , <traceback object at 0x7e621b2fc640>\n",
            "Exit method is executed\n"
          ]
        }
      ]
    },
    {
      "cell_type": "markdown",
      "source": [
        "helloWorld"
      ],
      "metadata": {
        "id": "mf_3dziV9CVp"
      }
    }
  ]
}
