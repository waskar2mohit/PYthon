{
  "nbformat": 4,
  "nbformat_minor": 0,
  "metadata": {
    "colab": {
      "provenance": []
    },
    "kernelspec": {
      "name": "python3",
      "display_name": "Python 3"
    },
    "language_info": {
      "name": "python"
    }
  },
  "cells": [
    {
      "cell_type": "code",
      "execution_count": 16,
      "metadata": {
        "id": "sg9g3GXzA7l9"
      },
      "outputs": [],
      "source": [
        "from contextlib import contextmanager\n",
        "\n",
        "@contextmanager\n",
        "def genericFileFunction (filename, method):\n",
        "    file = open (filename, method)\n",
        "    yield file\n",
        "    file.close ()\n",
        "\n",
        "if __name__ == '__main__':\n",
        "    with genericFileFunction('.\\text.txt' , 'w') as f:\n",
        "      f.write(\"hello\")\n",
        "\n",
        "\n",
        "\n",
        "    # Remove the pass and call the function to perform write.\n",
        "    # Read the file that was created while writing.\n",
        "    # Make the changes in the file by appending some material.\n",
        "    # Again read the same file.\n",
        "\n",
        "    '''\n",
        "    Print all the output of the function.\n",
        "    For better representation, please use jupyter.\n",
        "    Will also aid in easy maintanence of files for submissions.\n",
        "    '''"
      ]
    },
    {
      "cell_type": "code",
      "source": [
        "from contextlib import contextmanager\n",
        "\n",
        "@contextmanager\n",
        "def genericFileFunction (filename, method):\n",
        "    file = open (filename, method)\n",
        "    yield file\n",
        "    file.close ()\n",
        "\n",
        "if __name__ == '__main__':\n",
        "    with genericFileFunction('.\\text.txt' , 'r') as f:\n",
        "      print(f.read())\n",
        "\n",
        "\n",
        "\n",
        "    # Remove the pass and call the function to perform write.\n",
        "    # Read the file that was created while writing.\n",
        "    # Make the changes in the file by appending some material.\n",
        "    # Again read the same file.\n",
        "\n",
        "    '''\n",
        "    Print all the output of the function.\n",
        "    For better representation, please use jupyter.\n",
        "    Will also aid in easy maintanence of files for submissions.\n",
        "    '''"
      ],
      "metadata": {
        "colab": {
          "base_uri": "https://localhost:8080/"
        },
        "id": "I1euhntaFIWK",
        "outputId": "01f8c62f-2227-443f-808d-a8c9e7c510cc"
      },
      "execution_count": 17,
      "outputs": [
        {
          "output_type": "stream",
          "name": "stdout",
          "text": [
            "hello\n"
          ]
        }
      ]
    },
    {
      "cell_type": "markdown",
      "source": [],
      "metadata": {
        "id": "wHzVDIXRE738"
      }
    },
    {
      "cell_type": "code",
      "source": [
        "from contextlib import contextmanager\n",
        "\n",
        "@contextmanager\n",
        "def genericFileFunction (filename, method):\n",
        "    file = open (filename, method)\n",
        "    yield file\n",
        "    file.close ()\n",
        "\n",
        "if __name__ == '__main__':\n",
        "    with genericFileFunction('.\\text.txt' , 'a') as f:\n",
        "      f.write(\"guzz\")\n",
        "\n",
        "\n",
        "\n",
        "    # Remove the pass and call the function to perform write.\n",
        "    # Read the file that was created while writing.\n",
        "    # Make the changes in the file by appending some material.\n",
        "    # Again read the same file.\n",
        "\n",
        "    '''\n",
        "    Print all the output of the function.\n",
        "    For better representation, please use jupyter.\n",
        "    Will also aid in easy maintanence of files for submissions.\n",
        "    '''"
      ],
      "metadata": {
        "id": "uVH2Ob7RDavj"
      },
      "execution_count": 18,
      "outputs": []
    },
    {
      "cell_type": "code",
      "source": [
        "from contextlib import contextmanager\n",
        "\n",
        "@contextmanager\n",
        "def genericFileFunction (filename, method):\n",
        "    file = open (filename, method)\n",
        "    yield file\n",
        "    file.close ()\n",
        "\n",
        "if __name__ == '__main__':\n",
        "    with genericFileFunction('.\\text.txt' , 'r') as f:\n",
        "      print(f.read())\n",
        "\n",
        "\n",
        "\n",
        "    # Remove the pass and call the function to perform write.\n",
        "    # Read the file that was created while writing.\n",
        "    # Make the changes in the file by appending some material.\n",
        "    # Again read the same file.\n",
        "\n",
        "    '''\n",
        "    Print all the output of the function.\n",
        "    For better representation, please use jupyter.\n",
        "    Will also aid in easy maintanence of files for submissions.\n",
        "    '''"
      ],
      "metadata": {
        "colab": {
          "base_uri": "https://localhost:8080/"
        },
        "id": "cLrkLfVBDla6",
        "outputId": "564c186b-a278-4691-ad3b-57141eb0b6b4"
      },
      "execution_count": 19,
      "outputs": [
        {
          "output_type": "stream",
          "name": "stdout",
          "text": [
            "helloguzz\n"
          ]
        }
      ]
    }
  ]
}
