{
 "cells": [
  {
   "cell_type": "code",
   "execution_count": 2,
   "metadata": {},
   "outputs": [
    {
     "name": "stdout",
     "output_type": "stream",
     "text": [
      "Full Stack Developer\n"
     ]
    }
   ],
   "source": [
    "class Employee:\n",
    "    def __init__ (\n",
    "            self,\n",
    "            designation : str = 'Developer',\n",
    "            frontend : bool = False,\n",
    "            backend : bool = False\n",
    "    ):\n",
    "        self.designation = designation\n",
    "        self.frontend = frontend\n",
    "        self.backend = backend\n",
    "\n",
    "    def __repr__ (self):\n",
    "        return '{}'.format (self.designation, self.frontend, self.backend)\n",
    "    \n",
    "    ### Write the your method over here.\n",
    "    def verifier (self):\n",
    "        if self.frontend and self.backend:\n",
    "            self.designation=\"Full Stack Developer\"\n",
    "            return 'Full Stack Developer'\n",
    "        \n",
    "        elif self.frontend:\n",
    "            self.designation=\"Frontend Developer\"\n",
    "            return 'Frontend Developer'\n",
    "        \n",
    "        elif self.backend:\n",
    "            self.designation=\"Backend Developer\"\n",
    "            return 'Backend Developer'\n",
    "        \n",
    "        else:\n",
    "            self.designation=\"No Designation\"\n",
    "            return 'No designation assigned'\n",
    "\n",
    "if __name__ == '__main__':\n",
    "    firstEmployee = Employee ()\n",
    "    firstEmployee.frontend=\"frontend\"\n",
    "    firstEmployee.backend=\"backend\"\n",
    "    print(firstEmployee.verifier())\n"
   ]
  }
 ],
 "metadata": {
  "kernelspec": {
   "display_name": "Python 3",
   "language": "python",
   "name": "python3"
  },
  "language_info": {
   "codemirror_mode": {
    "name": "ipython",
    "version": 3
   },
   "file_extension": ".py",
   "mimetype": "text/x-python",
   "name": "python",
   "nbconvert_exporter": "python",
   "pygments_lexer": "ipython3",
   "version": "3.11.9"
  }
 },
 "nbformat": 4,
 "nbformat_minor": 2
}
